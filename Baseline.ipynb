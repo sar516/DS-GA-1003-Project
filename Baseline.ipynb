{
 "cells": [
  {
   "cell_type": "code",
   "execution_count": 5,
   "metadata": {
    "collapsed": false
   },
   "outputs": [],
   "source": [
    "import numpy as np\n",
    "import pandas as pd\n",
    "from collections import Counter\n",
    "import operator\n",
    "import copy\n",
    "import random\n",
    "from sklearn import model_selection\n",
    "raw_games = pd.read_csv(\"steam-200k.csv\", names =[\"user_id\", \"game\", \"behavior\", \"value\", \"misc.\"])\n",
    "playtime = raw_games[raw_games[\"behavior\"] == \"play\" ]\n",
    "purchased = raw_games[raw_games[\"behavior\"] == \"purchase\" ]"
   ]
  },
  {
   "cell_type": "code",
   "execution_count": 6,
   "metadata": {
    "collapsed": true
   },
   "outputs": [],
   "source": [
    "def bag_of_games(data_set):\n",
    "    user_ids = list(Counter(data_set[\"user_id\"]).keys())\n",
    "    bag = np.empty(len(user_ids), dict)\n",
    "    user_bag = {}.fromkeys(user_ids, {})\n",
    "    \n",
    "    \n",
    "    for row in data_set.itertuples():\n",
    "        user_bag[row[1]][row[2]] = row[4]\n",
    "        \n",
    "    i = 0\n",
    "    for key, value in user_bag.items():\n",
    "        factor  = 1/sum(value.values())\n",
    "        for key in value.keys():\n",
    "            value[key] = factor*value[key]\n",
    "        bag[i] = value\n",
    "        i+=1\n",
    "    return bag"
   ]
  },
  {
   "cell_type": "code",
   "execution_count": 7,
   "metadata": {
    "collapsed": false
   },
   "outputs": [],
   "source": [
    "playtime_bag = bag_of_games(playtime)"
   ]
  },
  {
   "cell_type": "code",
   "execution_count": 8,
   "metadata": {
    "collapsed": false
   },
   "outputs": [],
   "source": [
    "def bag_split(bag, test = 0.25):\n",
    "    np.random.shuffle(bag)\n",
    "    splitter = int(test*len(bag))\n",
    "    test_bag = bag[:splitter]\n",
    "    train_bag = bag[splitter:]\n",
    "    return train_bag, test_bag"
   ]
  },
  {
   "cell_type": "code",
   "execution_count": 9,
   "metadata": {
    "collapsed": false
   },
   "outputs": [],
   "source": [
    "train_bag, test_bag = bag_split(playtime_bag)"
   ]
  },
  {
   "cell_type": "code",
   "execution_count": 10,
   "metadata": {
    "collapsed": false
   },
   "outputs": [],
   "source": [
    "def leave_p_out(bag, percent = .1, make_new_users = True):\n",
    "    copy_bag = copy.deepcopy(bag)\n",
    "    deleted = int(percent*len(bag))\n",
    "    i = 0\n",
    "    removed = []\n",
    "    while i != deleted:\n",
    "        rand=int(len(bag)*random.random())\n",
    "        if len(copy_bag[rand]) == 1*(not make_new_users) :\n",
    "            continue\n",
    "        else:\n",
    "            selected = copy_bag[rand]\n",
    "            keys = list(selected.keys())\n",
    "            deleted_key = keys[int(random.random()*len(keys))]\n",
    "            removed.append([rand, deleted_key, copy_bag[rand].pop(deleted_key)])\n",
    "            i+=1\n",
    "    else:\n",
    "        return copy_bag, removed"
   ]
  },
  {
   "cell_type": "code",
   "execution_count": 11,
   "metadata": {
    "collapsed": false
   },
   "outputs": [],
   "source": [
    "query_bag, missing = leave_p_out(test_bag, .1)"
   ]
  },
  {
   "cell_type": "code",
   "execution_count": 12,
   "metadata": {
    "collapsed": true
   },
   "outputs": [],
   "source": [
    "def baseline(train_bag, query_bag, heldout, user_reg=25, game_reg=25):\n",
    "    stack_query_bag = copy.deepcopy(query_bag)\n",
    "    total_bag = np.hstack((train_bag, stack_query_bag))\n",
    "    n = 0\n",
    "    total = 0\n",
    "    for user in total_bag:\n",
    "        n += len(list(user.keys()))\n",
    "        total += sum(user.values())\n",
    "    else:\n",
    "        total_avg = total/n\n",
    "        \n",
    "    user_baseline = {}\n",
    "    games = []\n",
    "    for userid in range(len(total_bag)):\n",
    "        user = total_bag[userid]\n",
    "        user_baseline[userid] = (sum(user.values())/(len(user)+user_reg)) - total_avg\n",
    "        games.extend(list(user.keys()))\n",
    "    print()\n",
    "    games = np.unique(games)\n",
    "    games_baseline = {}.fromkeys(games, 0)\n",
    "    for game in games:\n",
    "        n = 0\n",
    "        for userid in range(len(total_bag)):\n",
    "            user = total_bag[userid]\n",
    "            if game in user.keys():\n",
    "                games_baseline[game] += user[game] - user_baseline[userid] - total_avg\n",
    "                n += 1\n",
    "        else:\n",
    "            games_baseline[game] = games_baseline[game]/(n + game_reg)\n",
    "    \n",
    "    predictions = [[]]*len(heldout)\n",
    "    for i in range(len(heldout)):\n",
    "        bu = user_baseline[heldout[i][0]]\n",
    "        bi = games_baseline[heldout[i][1]]\n",
    "        predictions[i] =[heldout[i][0], heldout[i][1], total_avg + bu + bi]\n",
    "        \n",
    "    return predictions"
   ]
  },
  {
   "cell_type": "code",
   "execution_count": 13,
   "metadata": {
    "collapsed": false
   },
   "outputs": [
    {
     "name": "stdout",
     "output_type": "stream",
     "text": [
      "\n"
     ]
    }
   ],
   "source": [
    "predictions = baseline(train_bag, query_bag, missing)"
   ]
  },
  {
   "cell_type": "code",
   "execution_count": 14,
   "metadata": {
    "collapsed": true
   },
   "outputs": [],
   "source": [
    "def get_metrics(actuals, preds):\n",
    "    diff =np.empty(len(preds), float)\n",
    "    for n in range(len(preds)):\n",
    "        diff[n] = float(actuals[n]) - float(preds[n])\n",
    "    abs_diff = abs(diff)\n",
    "    square_diff = diff*diff\n",
    "    MAE = abs_diff.mean()\n",
    "    MSE = square_diff.mean()\n",
    "    return MAE, MSE"
   ]
  },
  {
   "cell_type": "code",
   "execution_count": 15,
   "metadata": {
    "collapsed": false
   },
   "outputs": [
    {
     "data": {
      "text/plain": [
       "(8.5451859927558223e-07, 6.7235543146411918e-12)"
      ]
     },
     "execution_count": 15,
     "metadata": {},
     "output_type": "execute_result"
    }
   ],
   "source": [
    "actuals = np.array(missing)[:, 2]\n",
    "preds = np.array(predictions)[:, 2]\n",
    "get_metrics(actuals, preds)"
   ]
  },
  {
   "cell_type": "code",
   "execution_count": 16,
   "metadata": {
    "collapsed": false
   },
   "outputs": [
    {
     "name": "stdout",
     "output_type": "stream",
     "text": [
      "\n"
     ]
    },
    {
     "data": {
      "text/plain": [
       "(9.0141362878364116e-07, 6.7146952934019104e-12)"
      ]
     },
     "execution_count": 16,
     "metadata": {},
     "output_type": "execute_result"
    }
   ],
   "source": [
    "query_bag1, missing1 = leave_p_out(test_bag, .1, False)\n",
    "predictions1 = baseline(train_bag, query_bag1, missing1)\n",
    "actuals1 = np.array(missing1)[:, 2]\n",
    "preds1 = np.array(predictions1)[:, 2]\n",
    "get_metrics(actuals1, preds1)"
   ]
  }
 ],
 "metadata": {
  "anaconda-cloud": {},
  "kernelspec": {
   "display_name": "Python [Root]",
   "language": "python",
   "name": "Python [Root]"
  },
  "language_info": {
   "codemirror_mode": {
    "name": "ipython",
    "version": 3
   },
   "file_extension": ".py",
   "mimetype": "text/x-python",
   "name": "python",
   "nbconvert_exporter": "python",
   "pygments_lexer": "ipython3",
   "version": "3.5.2"
  }
 },
 "nbformat": 4,
 "nbformat_minor": 0
}
