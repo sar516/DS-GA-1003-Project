{
 "cells": [
  {
   "cell_type": "code",
   "execution_count": 3,
   "metadata": {
    "collapsed": false
   },
   "outputs": [],
   "source": [
    "import numpy as np\n",
    "import pandas as pd\n",
    "from collections import Counter\n",
    "import operator\n",
    "import copy\n",
    "import random\n",
    "from sklearn import model_selection\n",
    "raw_games = pd.read_csv(\"steam-200k.csv\", names =[\"user_id\", \"game\", \"behavior\", \"value\", \"misc.\"])\n",
    "playtime = raw_games[raw_games[\"behavior\"] == \"play\" ]\n",
    "purchased = raw_games[raw_games[\"behavior\"] == \"purchase\" ]"
   ]
  },
  {
   "cell_type": "code",
   "execution_count": 36,
   "metadata": {
    "collapsed": true
   },
   "outputs": [],
   "source": [
    "def bag_of_games(data_set):\n",
    "    user_ids = list(Counter(data_set[\"user_id\"]).keys())\n",
    "    bag = np.empty(len(user_ids), dict)\n",
    "    user_bag = {}.fromkeys(map((lambda x: str(x)),user_ids), {})\n",
    "    \n",
    "    \n",
    "    for row in data_set.itertuples():\n",
    "        user_bag[str(row[1])][row[2]] = float(row[4])\n",
    "        \n",
    "    i = 0\n",
    "    for user, gamelist in user_bag.items():\n",
    "        factor  = 1/sum(gamelist.values())\n",
    "        for game in gamelist.keys():\n",
    "            gamelist[game] = factor*gamelist[game]\n",
    "        \n",
    "    return user_bag"
   ]
  },
  {
   "cell_type": "code",
   "execution_count": 37,
   "metadata": {
    "collapsed": false
   },
   "outputs": [],
   "source": [
    "playtime_bag = bag_of_games(playtime)"
   ]
  },
  {
   "cell_type": "code",
   "execution_count": 60,
   "metadata": {
    "collapsed": false
   },
   "outputs": [],
   "source": [
    "def bag_split(bag, test = 0.25):\n",
    "    users = np.array(list(bag.keys()))\n",
    "    np.random.shuffle(users)\n",
    "    splitter = int(test*len(users))\n",
    "    test_bag = {user : bag[user] for user in users[:splitter]}\n",
    "    train_bag = {user : bag[user] for user in users[splitter:]}\n",
    "    return train_bag, test_bag"
   ]
  },
  {
   "cell_type": "code",
   "execution_count": 61,
   "metadata": {
    "collapsed": false
   },
   "outputs": [],
   "source": [
    "train_bag, test_bag = bag_split(playtime_bag)"
   ]
  },
  {
   "cell_type": "code",
   "execution_count": 125,
   "metadata": {
    "collapsed": false
   },
   "outputs": [],
   "source": [
    "def leave_1_out(bag):\n",
    "    copy_bag = copy.deepcopy(bag)\n",
    "    removed = []\n",
    "    for user in copy_bag:\n",
    "        gamelist = copy_bag[user]\n",
    "        games  = list(gamelist.keys())\n",
    "        rand = int(len(games)*random.random())\n",
    "        selected = games[rand]\n",
    "        rating = gamelist[selected]\n",
    "        removed.append([user, selected, gamelist.pop(selected)])\n",
    "    else:\n",
    "        return copy_bag, removed"
   ]
  },
  {
   "cell_type": "code",
   "execution_count": 130,
   "metadata": {
    "collapsed": false
   },
   "outputs": [],
   "source": [
    "query_bag, heldout = leave_1_out(test_bag)"
   ]
  },
  {
   "cell_type": "code",
   "execution_count": 151,
   "metadata": {
    "collapsed": true
   },
   "outputs": [],
   "source": [
    "def baseline(train_bag, query_bag, heldout, user_reg=25, game_reg=25):\n",
    "    total_bag = copy.deepcopy(train_bag)\n",
    "    total_bag.update(query_bag)\n",
    "    n = 0\n",
    "    total = 0\n",
    "    for userid in train_bag:\n",
    "        gamelist = train_bag[userid]\n",
    "        n += len(list(gamelist.keys()))\n",
    "        total += sum(gamelist.values())\n",
    "    else:\n",
    "        total_avg = total/n\n",
    "        \n",
    "    user_baseline = {}\n",
    "    for userid in total_bag:\n",
    "        user = total_bag[userid]\n",
    "        user_baseline[userid] = (sum(user.values()) - len(user)*total_avg)/(len(user)+user_reg)\n",
    "    \n",
    "    predictions = [[]]*len(heldout)\n",
    "    for i in range(len(heldout)):\n",
    "        bu = user_baseline[heldout[i][0]]\n",
    "        game = heldout[i][1]\n",
    "        n = 0\n",
    "        bi = 0\n",
    "        for userid in train_bag:\n",
    "            user = train_bag[userid]\n",
    "            if game in user.keys():\n",
    "                bi += user[game] - user_baseline[userid] - total_avg\n",
    "                n += 1\n",
    "        else:\n",
    "            bi = bi/(n + game_reg)\n",
    "        \n",
    "        \n",
    "        predictions[i] =[heldout[i][0], heldout[i][1], total_avg + bu + bi]\n",
    "        \n",
    "    return predictions"
   ]
  },
  {
   "cell_type": "code",
   "execution_count": 152,
   "metadata": {
    "collapsed": false
   },
   "outputs": [],
   "source": [
    "predictions = baseline(train_bag, query_bag, heldout)"
   ]
  },
  {
   "cell_type": "code",
   "execution_count": 218,
   "metadata": {
    "collapsed": true
   },
   "outputs": [],
   "source": [
    "def get_metrics(actuals, preds):\n",
    "    diff =np.empty(len(preds), float)\n",
    "    for n in range(len(preds)):\n",
    "        diff[n] = float(actuals[n]) - float(preds[n])\n",
    "    abs_diff = abs(diff)\n",
    "    square_diff = diff*diff\n",
    "    MAE = abs_diff.mean()\n",
    "    MSE = square_diff.mean()\n",
    "    RMSE = MSE**.5\n",
    "    return MAE, RMSE"
   ]
  },
  {
   "cell_type": "code",
   "execution_count": 219,
   "metadata": {
    "collapsed": false
   },
   "outputs": [
    {
     "data": {
      "text/plain": [
       "(5.9038507431930445e-05, 5.9349979509493552e-05)"
      ]
     },
     "execution_count": 219,
     "metadata": {},
     "output_type": "execute_result"
    }
   ],
   "source": [
    "actuals = np.array(heldout)[:, 2]\n",
    "preds = np.array(predictions)[:, 2]\n",
    "get_metrics(actuals, preds)"
   ]
  },
  {
   "cell_type": "code",
   "execution_count": 198,
   "metadata": {
    "collapsed": false
   },
   "outputs": [],
   "source": [
    "def bag_folder(bag, folds = 4):\n",
    "    percent = 1/folds\n",
    "    users = np.array(list(bag.keys()))\n",
    "    np.random.shuffle(users)\n",
    "    cutoffs = np.array(range(folds))*percent*len(users)\n",
    "    first_fold  = {\"test_bag\": {user : bag[user] for user in users[:int(cutoffs[1])]},\n",
    "                   \"train_bag\": {user : bag[user] for user in users[int(cutoffs[1]):]}}\n",
    "    folded = {1: first_fold}\n",
    "    for i in range(2,folds):\n",
    "        split = (int(cutoffs[i-1]),int(cutoffs[i]))\n",
    "        test_slice = users[split[0]: split[1]]\n",
    "        train_slice = []\n",
    "        for user in users:\n",
    "            if user not in test_slice:\n",
    "                train_slice.append(user)\n",
    "        folded[i] = {\"test_bag\": {user : bag[user] for user in test_slice},\n",
    "                     \"train_bag\": {user : bag[user] for user in train_slice}}\n",
    "    \n",
    "    last_fold  = {\"test_bag\": {user : bag[user] for user in users[int(cutoffs[-1]):]},\n",
    "                  \"train_bag\": {user : bag[user] for user in users[:int(cutoffs[-1])]}}\n",
    "    folded[folds] = last_fold\n",
    "    return folded"
   ]
  },
  {
   "cell_type": "code",
   "execution_count": 208,
   "metadata": {
    "collapsed": false
   },
   "outputs": [],
   "source": [
    "folded = bag_folder(playtime_bag, 5)"
   ]
  },
  {
   "cell_type": "code",
   "execution_count": 220,
   "metadata": {
    "collapsed": false
   },
   "outputs": [],
   "source": [
    "absolute, square = [], []\n",
    "for i in folded:\n",
    "    fold = folded[i]\n",
    "    test_bag = fold[\"test_bag\"]\n",
    "    train_bag = fold[\"train_bag\"]\n",
    "    query_bag, heldout = leave_1_out(test_bag)\n",
    "    predictions = baseline(train_bag, query_bag, heldout)\n",
    "    actuals = np.array(heldout)[:, 2]\n",
    "    preds = np.array(predictions)[:, 2]\n",
    "    MAE, RMSE = get_metrics(actuals, preds)\n",
    "    absolute.append(MAE)\n",
    "    square.append(RMSE)\n"
   ]
  },
  {
   "cell_type": "code",
   "execution_count": 223,
   "metadata": {
    "collapsed": false
   },
   "outputs": [
    {
     "data": {
      "text/plain": [
       "3.923294797901406e-05"
      ]
     },
     "execution_count": 223,
     "metadata": {},
     "output_type": "execute_result"
    }
   ],
   "source": [
    "np.array(absolute).mean()"
   ]
  },
  {
   "cell_type": "code",
   "execution_count": 224,
   "metadata": {
    "collapsed": false
   },
   "outputs": [
    {
     "data": {
      "text/plain": [
       "4.0236311005247149e-05"
      ]
     },
     "execution_count": 224,
     "metadata": {},
     "output_type": "execute_result"
    }
   ],
   "source": [
    "np.array(square).mean()"
   ]
  }
 ],
 "metadata": {
  "anaconda-cloud": {},
  "kernelspec": {
   "display_name": "Python [Root]",
   "language": "python",
   "name": "Python [Root]"
  },
  "language_info": {
   "codemirror_mode": {
    "name": "ipython",
    "version": 3
   },
   "file_extension": ".py",
   "mimetype": "text/x-python",
   "name": "python",
   "nbconvert_exporter": "python",
   "pygments_lexer": "ipython3",
   "version": "3.5.2"
  }
 },
 "nbformat": 4,
 "nbformat_minor": 0
}
