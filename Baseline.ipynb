{
 "cells": [
  {
   "cell_type": "code",
   "execution_count": 72,
   "metadata": {
    "collapsed": false
   },
   "outputs": [],
   "source": [
    "import numpy as np\n",
    "import pandas as pd\n",
    "from collections import Counter\n",
    "import operator\n",
    "import copy\n",
    "import random\n",
    "from sklearn import model_selection\n",
    "raw_games = pd.read_csv(\"steam-200k.csv\", names =[\"user_id\", \"game\", \"behavior\", \"value\", \"misc.\"])\n",
    "playtime = raw_games[raw_games[\"behavior\"] == \"play\" ]\n",
    "purchased = raw_games[raw_games[\"behavior\"] == \"purchase\" ]"
   ]
  },
  {
   "cell_type": "code",
   "execution_count": 190,
   "metadata": {
    "collapsed": true
   },
   "outputs": [],
   "source": [
    "def bag_of_games(data_set):\n",
    "    user_ids = data_set[\"user_id\"].unique()\n",
    "    user_bag = {}#.fromkeys(map((lambda x: str(x)),user_ids), {})\n",
    "    \n",
    "    \n",
    "    for user in user_ids:\n",
    "        \n",
    "        user_bag[str(user)] = {}\n",
    "        for row in data_set[data_set[\"user_id\"] == user][[\"game\", \"value\"]].itertuples():\n",
    "            user_bag[str(user)][row[1]] = row[2]\n",
    "        \n",
    "    for user, gamelist in user_bag.items():\n",
    "        factor  = 1/sum(gamelist.values())\n",
    "        for game in gamelist.keys():\n",
    "            gamelist[game] = factor*gamelist[game]\n",
    "    \n",
    "        \n",
    "    return user_bag"
   ]
  },
  {
   "cell_type": "code",
   "execution_count": 192,
   "metadata": {
    "collapsed": false
   },
   "outputs": [
    {
     "name": "stdout",
     "output_type": "stream",
     "text": [
      "CPU times: user 57.2 s, sys: 718 ms, total: 58 s\n",
      "Wall time: 1min\n"
     ]
    }
   ],
   "source": [
    "%time playtime_bag = bag_of_games(playtime)"
   ]
  },
  {
   "cell_type": "code",
   "execution_count": 169,
   "metadata": {
    "collapsed": false
   },
   "outputs": [
    {
     "data": {
      "text/plain": [
       "11350"
      ]
     },
     "execution_count": 169,
     "metadata": {},
     "output_type": "execute_result"
    }
   ],
   "source": [
    "len(playtime_bag)"
   ]
  },
  {
   "cell_type": "code",
   "execution_count": 197,
   "metadata": {
    "collapsed": false
   },
   "outputs": [],
   "source": [
    "def leave_n_in(bag, n=1, p = .25):\n",
    "    copy_bag = copy.deepcopy(bag)\n",
    "    user_ids = list(copy_bag.keys())\n",
    "    \n",
    "    N = 0\n",
    "    targets = []\n",
    "    for user in bag.keys():\n",
    "        game_list = bag[user] \n",
    "        j = len(game_list)\n",
    "        N += j\n",
    "        if j > n:\n",
    "            targets.append(user)\n",
    "            \n",
    "                \n",
    "    k = int(p*N)\n",
    "    popped = []\n",
    "    removed = {}\n",
    "    i = 0\n",
    "    h = len(targets)\n",
    "    while i != k:\n",
    "        rand_1 = int(h*(random.random()))\n",
    "        user = targets[rand_1]\n",
    "        gamelist = copy_bag[user]\n",
    "        j = len(gamelist) \n",
    "        if j <= n:\n",
    "            pass\n",
    "        else:\n",
    "            if user not in popped:\n",
    "                popped.append(user)\n",
    "            rand_2 = int(j*random.random())\n",
    "            games  = list(gamelist.keys())\n",
    "            selected = games[rand_2]\n",
    "            removed[(user, selected)] = gamelist.pop(selected)   \n",
    "            i += 1\n",
    "    else:\n",
    "        query_bag = {}\n",
    "        for user in popped:\n",
    "            query_bag[user] = copy_bag.pop(user)\n",
    "        return copy_bag, removed, query_bag"
   ]
  },
  {
   "cell_type": "code",
   "execution_count": 209,
   "metadata": {
    "collapsed": false
   },
   "outputs": [
    {
     "name": "stdout",
     "output_type": "stream",
     "text": [
      "CPU times: user 1.59 s, sys: 17.5 ms, total: 1.6 s\n",
      "Wall time: 1.77 s\n"
     ]
    }
   ],
   "source": [
    "%time train_bag, heldout, query_bag = leave_n_in(playtime_bag)"
   ]
  },
  {
   "cell_type": "code",
   "execution_count": 210,
   "metadata": {
    "collapsed": true
   },
   "outputs": [],
   "source": [
    "def baseline(train_bag, query_bag, heldout, user_reg=25, game_reg=25):\n",
    "    total_bag = copy.deepcopy(train_bag)\n",
    "    total_bag.update(query_bag)\n",
    "    n = 0\n",
    "    total = 0\n",
    "    for userid in train_bag:\n",
    "        gamelist = train_bag[userid]\n",
    "        n += len(list(gamelist.keys()))\n",
    "        total += sum(gamelist.values())\n",
    "    else:\n",
    "        total_avg = total/n\n",
    "        \n",
    "    user_baseline = {}\n",
    "    for userid in total_bag:\n",
    "        user = total_bag[userid]\n",
    "        user_baseline[userid] = (sum(user.values()) - len(user)*total_avg)/(len(user)+user_reg)\n",
    "    \n",
    "    predictions = {}\n",
    "    for test_point in heldout.keys():\n",
    "        test_user = test_point[0]\n",
    "        test_game = test_point[1]\n",
    "        bu = user_baseline[test_user]\n",
    "        n = 0\n",
    "        bi = 0\n",
    "        for userid in train_bag:\n",
    "            user = train_bag[userid]\n",
    "            if test_game in user.keys():\n",
    "                bi += user[test_game] - user_baseline[userid] - total_avg\n",
    "                n += 1\n",
    "        else:\n",
    "            bi = bi/(n + game_reg)\n",
    "        \n",
    "        \n",
    "        predictions[test_point] = total_avg + bu + bi\n",
    "    return predictions"
   ]
  },
  {
   "cell_type": "code",
   "execution_count": 211,
   "metadata": {
    "collapsed": false
   },
   "outputs": [
    {
     "name": "stdout",
     "output_type": "stream",
     "text": [
      "CPU times: user 40.9 s, sys: 420 ms, total: 41.4 s\n",
      "Wall time: 45.9 s\n"
     ]
    }
   ],
   "source": [
    "%time predictions = baseline(train_bag, query_bag, heldout)"
   ]
  },
  {
   "cell_type": "code",
   "execution_count": 212,
   "metadata": {
    "collapsed": true
   },
   "outputs": [],
   "source": [
    "def get_metrics(actuals, preds):\n",
    "    abs_diff = {}\n",
    "    square_diff = {}\n",
    "    for point in preds.keys():\n",
    "        diff = float(actuals[point]) - float(preds[point])\n",
    "        abs_diff[point] = abs(diff)\n",
    "        square_diff[point] = diff*diff\n",
    "    MAE = np.array(list(abs_diff.values())).mean()\n",
    "    MSE = np.array(list(square_diff.values())).mean()\n",
    "    RMSE = MSE**.5\n",
    "    return MAE, RMSE"
   ]
  },
  {
   "cell_type": "code",
   "execution_count": 213,
   "metadata": {
    "collapsed": false
   },
   "outputs": [
    {
     "data": {
      "text/plain": [
       "(0.62716647362889011, 0.68496917488601394)"
      ]
     },
     "execution_count": 213,
     "metadata": {},
     "output_type": "execute_result"
    }
   ],
   "source": [
    "actuals = heldout\n",
    "preds = predictions\n",
    "get_metrics(actuals, preds)"
   ]
  },
  {
   "cell_type": "code",
   "execution_count": 203,
   "metadata": {
    "collapsed": false
   },
   "outputs": [],
   "source": [
    "def bag_folder(bag, folds = 4):\n",
    "    percent = 1/folds\n",
    "    users = np.array(list(bag.keys()))\n",
    "    np.random.shuffle(users)\n",
    "    cutoffs = np.array(range(folds))*percent*len(users)\n",
    "    first_fold  = {\"test_bag\": {user : bag[user] for user in users[:int(cutoffs[1])]},\n",
    "                   \"train_bag\": {user : bag[user] for user in users[int(cutoffs[1]):]}}\n",
    "    folded = {1: first_fold}\n",
    "    for i in range(2,folds):\n",
    "        split = (int(cutoffs[i-1]),int(cutoffs[i]))\n",
    "        test_slice = users[split[0]: split[1]]\n",
    "        train_slice = []\n",
    "        for user in users:\n",
    "            if user not in test_slice:\n",
    "                train_slice.append(user)\n",
    "        folded[i] = {\"test_bag\": {user : bag[user] for user in test_slice},\n",
    "                     \"train_bag\": {user : bag[user] for user in train_slice}}\n",
    "    \n",
    "    last_fold  = {\"test_bag\": {user : bag[user] for user in users[int(cutoffs[-1]):]},\n",
    "                  \"train_bag\": {user : bag[user] for user in users[:int(cutoffs[-1])]}}\n",
    "    folded[folds] = last_fold\n",
    "    return folded"
   ]
  },
  {
   "cell_type": "code",
   "execution_count": 204,
   "metadata": {
    "collapsed": false
   },
   "outputs": [],
   "source": [
    "folded = bag_folder(playtime_bag, 5)"
   ]
  },
  {
   "cell_type": "code",
   "execution_count": 206,
   "metadata": {
    "collapsed": false
   },
   "outputs": [],
   "source": [
    "absolute, square = [], []\n",
    "for i in folded:\n",
    "    fold = folded[i]\n",
    "    test_bag = fold[\"test_bag\"]\n",
    "    train_bag = fold[\"train_bag\"]\n",
    "    query_bag, heldout = leave_1_out(test_bag)\n",
    "    predictions = baseline(train_bag, query_bag, heldout)\n",
    "    actuals = heldout\n",
    "    preds = predictions\n",
    "    MAE, RMSE = get_metrics(actuals, preds)\n",
    "    absolute.append(MAE)\n",
    "    square.append(RMSE)\n"
   ]
  },
  {
   "cell_type": "code",
   "execution_count": 207,
   "metadata": {
    "collapsed": false
   },
   "outputs": [
    {
     "data": {
      "text/plain": [
       "0.35956849481895781"
      ]
     },
     "execution_count": 207,
     "metadata": {},
     "output_type": "execute_result"
    }
   ],
   "source": [
    "np.array(absolute).mean()"
   ]
  },
  {
   "cell_type": "code",
   "execution_count": 208,
   "metadata": {
    "collapsed": false
   },
   "outputs": [
    {
     "data": {
      "text/plain": [
       "0.44728913949529447"
      ]
     },
     "execution_count": 208,
     "metadata": {},
     "output_type": "execute_result"
    }
   ],
   "source": [
    "np.array(square).mean()"
   ]
  }
 ],
 "metadata": {
  "anaconda-cloud": {},
  "kernelspec": {
   "display_name": "Python [Root]",
   "language": "python",
   "name": "Python [Root]"
  },
  "language_info": {
   "codemirror_mode": {
    "name": "ipython",
    "version": 3
   },
   "file_extension": ".py",
   "mimetype": "text/x-python",
   "name": "python",
   "nbconvert_exporter": "python",
   "pygments_lexer": "ipython3",
   "version": "3.5.2"
  }
 },
 "nbformat": 4,
 "nbformat_minor": 0
}
